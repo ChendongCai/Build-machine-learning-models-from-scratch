{
 "cells": [
  {
   "cell_type": "code",
   "execution_count": 200,
   "metadata": {},
   "outputs": [],
   "source": [
    "import numpy as np\n",
    "import matplotlib.pyplot as plt\n",
    "import random\n",
    "%matplotlib inline"
   ]
  },
  {
   "cell_type": "code",
   "execution_count": 201,
   "metadata": {
    "collapsed": true
   },
   "outputs": [],
   "source": [
    "def initiate(data,k):\n",
    "    index=random.sample(range(len(data)),k)\n",
    "    init_centroids={}\n",
    "    for i in range(k):\n",
    "        init_centroids[i]=data[index[i]]\n",
    "    return init_centroids"
   ]
  },
  {
   "cell_type": "code",
   "execution_count": 202,
   "metadata": {},
   "outputs": [],
   "source": [
    "def find_centroid(clusters):\n",
    "    centroids={}\n",
    "    for num in clusters:\n",
    "        centroids[num]=np.mean(clusters[num],axis=0)\n",
    "    return centroids        "
   ]
  },
  {
   "cell_type": "code",
   "execution_count": 203,
   "metadata": {
    "collapsed": true
   },
   "outputs": [],
   "source": [
    "def cal_distance(point,centroid):\n",
    "    return np.sum((point-centroid)**2)"
   ]
  },
  {
   "cell_type": "code",
   "execution_count": 204,
   "metadata": {},
   "outputs": [],
   "source": [
    "def distance_to_cluster(points,centroids):\n",
    "    group=[]\n",
    "    for point in points:\n",
    "        distances=[]\n",
    "        for i in centroids:\n",
    "            distances.append(cal_distance(point,centroids[i]))\n",
    "        group.append(np.argmin(distances))\n",
    "    clusters={}\n",
    "    for i in range(len(group)):\n",
    "        clusters[group[i]]=[]\n",
    "    for i in range(len(group)):\n",
    "        clusters[group[i]].append(points[i])  \n",
    "    for i in clusters:\n",
    "        clusters[i]=np.array(clusters[i])\n",
    "    return clusters            "
   ]
  },
  {
   "cell_type": "code",
   "execution_count": 205,
   "metadata": {
    "collapsed": true
   },
   "outputs": [],
   "source": [
    "def kmeans(k,data,t):\n",
    "    centroids=initiate(data,k)\n",
    "    points=data\n",
    "    itertimes=1\n",
    "    while itertimes<t:\n",
    "        clusters=distance_to_cluster(points,centroids)\n",
    "        centroids=find_centroid(clusters)\n",
    "        itertimes+=1\n",
    "    return clusters    "
   ]
  },
  {
   "cell_type": "code",
   "execution_count": 206,
   "metadata": {
    "collapsed": true
   },
   "outputs": [],
   "source": [
    "#this is the test data\n",
    "data=np.array([[1,2],[2,3],[1.5,3],[5,2],[1,4],[6,3],[2,4],[7,4.5],[5,5],[2.5,3],[3,5],[6,4],[8,5],[2,6],[8,3],[5,7],[1,6],[3,2],[6,6.5],[7,7.5]])"
   ]
  },
  {
   "cell_type": "code",
   "execution_count": 207,
   "metadata": {},
   "outputs": [
    {
     "data": {
      "text/plain": [
       "<matplotlib.collections.PathCollection at 0x107e3db38>"
      ]
     },
     "execution_count": 207,
     "metadata": {},
     "output_type": "execute_result"
    },
    {
     "data": {
      "image/png": "[encoded data removed]",
      "text/plain": [
       "<matplotlib.figure.Figure at 0x107e1b6a0>"
      ]
     },
     "metadata": {},
     "output_type": "display_data"
    }
   ],
   "source": [
    "fig=plt.figure(figsize=(10,8))\n",
    "plt.scatter(data[:,0],data[:,1])"
   ]
  },
  {
   "cell_type": "code",
   "execution_count": 224,
   "metadata": {},
   "outputs": [],
   "source": [
    "clusters=kmeans(2,data,30)"
   ]
  },
  {
   "cell_type": "code",
   "execution_count": 225,
   "metadata": {},
   "outputs": [
    {
     "data": {
      "text/plain": [
       "<matplotlib.collections.PathCollection at 0x1085af7b8>"
      ]
     },
     "execution_count": 225,
     "metadata": {},
     "output_type": "execute_result"
    },
    {
     "data": {
      "image/png": "[encoded data removed]",
      "text/plain": [
       "<matplotlib.figure.Figure at 0x10844f0f0>"
      ]
     },
     "metadata": {},
     "output_type": "display_data"
    }
   ],
   "source": [
    "fig=plt.figure(figsize=(10,8))\n",
    "plt.scatter(clusters[0][:,0],clusters[0][:,1],color='red')\n",
    "plt.scatter(clusters[1][:,0],clusters[1][:,1],color='green')"
   ]
  },
  {
   "cell_type": "code",
   "execution_count": 226,
   "metadata": {},
   "outputs": [
    {
     "data": {
      "text/plain": [
       "{0: array([[1. , 2. ],\n",
       "        [2. , 3. ],\n",
       "        [1.5, 3. ],\n",
       "        [1. , 4. ],\n",
       "        [2. , 4. ],\n",
       "        [2.5, 3. ],\n",
       "        [3. , 5. ],\n",
       "        [2. , 6. ],\n",
       "        [1. , 6. ],\n",
       "        [3. , 2. ]]), 1: array([[5. , 2. ],\n",
       "        [6. , 3. ],\n",
       "        [7. , 4.5],\n",
       "        [5. , 5. ],\n",
       "        [6. , 4. ],\n",
       "        [8. , 5. ],\n",
       "        [8. , 3. ],\n",
       "        [5. , 7. ],\n",
       "        [6. , 6.5],\n",
       "        [7. , 7.5]])}"
      ]
     },
     "execution_count": 226,
     "metadata": {},
     "output_type": "execute_result"
    }
   ],
   "source": [
    "clusters"
   ]
  }
 ],
 "metadata": {
  "kernelspec": {
   "display_name": "Python 3",
   "language": "python",
   "name": "python3"
  },
  "language_info": {
   "codemirror_mode": {
    "name": "ipython",
    "version": 3
   },
   "file_extension": ".py",
   "mimetype": "text/x-python",
   "name": "python",
   "nbconvert_exporter": "python",
   "pygments_lexer": "ipython3",
   "version": "3.6.3"
  }
 },
 "nbformat": 4,
 "nbformat_minor": 2
}
